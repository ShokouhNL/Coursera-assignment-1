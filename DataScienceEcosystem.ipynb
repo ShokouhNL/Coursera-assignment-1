{
 "cells": [
  {
   "cell_type": "markdown",
   "id": "3dde3644-d4da-4514-8d54-1d220d06da5d",
   "metadata": {},
   "source": [
    "### Instructions\n",
    "---"
   ]
  },
  {
   "cell_type": "markdown",
   "id": "d72c9c67-035e-4d34-8f5c-885b13082418",
   "metadata": {},
   "source": [
    "**Objectives:**\n",
    "* Phyton\n",
    "* R\n",
    "* SQL"
   ]
  },
  {
   "cell_type": "markdown",
   "id": "6d727fdb-8e87-48a7-ba06-3a8aa30e68b6",
   "metadata": {},
   "source": [
    "In this notebook, Data Science Tools and Ecosystem are summarized."
   ]
  },
  {
   "cell_type": "markdown",
   "id": "7b10e10d-502e-421d-8add-bcd8534c0f23",
   "metadata": {},
   "source": [
    "Some of the popular languages that Data Scientists use are:\n",
    "1. Python\n",
    "2. R\n",
    "3. SQL"
   ]
  },
  {
   "cell_type": "markdown",
   "id": "683a9021-a46e-485d-b4bb-73da163dad3f",
   "metadata": {},
   "source": [
    "Some of the commonly used libraries used by Data Scientists include:\n",
    "1. Pandas\n",
    "2. NumPy\n",
    "3. Seaborn"
   ]
  },
  {
   "cell_type": "markdown",
   "id": "d37b45eb-7d3a-4dfa-a866-04445649d71f",
   "metadata": {},
   "source": [
    "| Column 1 Data Science Tools |\n",
    "| --- |\n",
    "| Jupyter Notebook |\n",
    "| RStudio |\n",
    "| Visual Studio Code |"
   ]
  },
  {
   "cell_type": "markdown",
   "id": "87e1ca4a-61c5-44e4-a07b-03a53915c89c",
   "metadata": {},
   "source": [
    "### Below are a few examples of evaluating arithmetic expressions in Python\n",
    "---\n"
   ]
  },
  {
   "cell_type": "code",
   "execution_count": 1,
   "id": "db6b23e3-833f-43f4-adab-29f865ceecb1",
   "metadata": {},
   "outputs": [
    {
     "name": "stdout",
     "output_type": "stream",
     "text": [
      "17\n"
     ]
    }
   ],
   "source": [
    "num1 = 3\n",
    "num2 = 4\n",
    "num3 = 5\n",
    "\n",
    "result = (num1 * num2) + num3\n",
    "\n",
    "print(result)"
   ]
  },
  {
   "cell_type": "code",
   "execution_count": 3,
   "id": "9665bc9a-4ab5-4548-a596-59d94d9f76ec",
   "metadata": {},
   "outputs": [
    {
     "name": "stdout",
     "output_type": "stream",
     "text": [
      "1.0\n"
     ]
    }
   ],
   "source": [
    "minutes = 60\n",
    "\n",
    "hours = minutes / 60\n",
    "\n",
    "print(hours)"
   ]
  },
  {
   "cell_type": "markdown",
   "id": "3e918355-e54a-4c29-bb30-76e74987d3a0",
   "metadata": {},
   "source": [
    "## Author:\n",
    "Shokouh Rahsepar"
   ]
  },
  {
   "cell_type": "code",
   "execution_count": null,
   "id": "dd2fa420-73c2-4381-b4fe-0d0cc1054372",
   "metadata": {},
   "outputs": [],
   "source": []
  }
 ],
 "metadata": {
  "kernelspec": {
   "display_name": "Python 3 (ipykernel)",
   "language": "python",
   "name": "python3"
  },
  "language_info": {
   "codemirror_mode": {
    "name": "ipython",
    "version": 3
   },
   "file_extension": ".py",
   "mimetype": "text/x-python",
   "name": "python",
   "nbconvert_exporter": "python",
   "pygments_lexer": "ipython3",
   "version": "3.9.13"
  }
 },
 "nbformat": 4,
 "nbformat_minor": 5
}
